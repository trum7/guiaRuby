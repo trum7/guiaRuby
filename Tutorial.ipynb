{
 "cells": [
  {
   "cell_type": "markdown",
   "metadata": {},
   "source": [
    "# Tutorial de Ruby "
   ]
  },
  {
   "cell_type": "markdown",
   "metadata": {},
   "source": [
    "**Laura P. Cerón Martinez y Camilo A. Dajer Piñerez**"
   ]
  },
  {
   "cell_type": "markdown",
   "metadata": {},
   "source": [
    "**Universidad Nacional de Colombia**"
   ]
  },
  {
   "cell_type": "markdown",
   "metadata": {},
   "source": [
    "**Lenguajes de programación 2017-II**"
   ]
  },
  {
   "cell_type": "markdown",
   "metadata": {},
   "source": [
    "<img src=\"img/logo.gif\"/>"
   ]
  },
  {
   "cell_type": "markdown",
   "metadata": {},
   "source": [
    "## **Introducción**"
   ]
  },
  {
   "cell_type": "markdown",
   "metadata": {
    "collapsed": true
   },
   "source": [
    "<div style=\"text-align: justify\">Ruby es un lenguaje interpretado, case sensitive y de código abierto, creado por Yukihiro Matsumoto. Es un lenguaje de alto nivel que permite la aplicación de los principios de la programación orientada a objetos de una manera intuitiva. Ruby es un lenguaje muy sencillo de implementar pero que posee un desarrollo complejo y completo, diseñado con un énfasis en las necesidades humanas por encima de las del computador.\n",
    "\n",
    "Toda su documentación puede ser encontrada  <a href=\"https://www.ruby-lang.org/es/\"> aquí </a> \n",
    "</div>\n",
    "\n",
    "Todo en Ruby es considerado un objeto, inclusive **nil**."
   ]
  },
  {
   "cell_type": "markdown",
   "metadata": {},
   "source": [
    "## Instalación"
   ]
  },
  {
   "cell_type": "markdown",
   "metadata": {},
   "source": [
    "<div style=\"text-align: justify\">La instalación de Ruby se encuentra explicada detalladamente en el siguiente <a href=\"https://www.ruby-lang.org/es/documentation/installation/\"> enlace</a>. Solo se debe realizar la selección del sistema operativo que posee el usuario. En caso de ser Windows se recomienda usar el paquete de instalación *RubyInstaller*.  </div>"
   ]
  },
  {
   "cell_type": "markdown",
   "metadata": {},
   "source": [
    "## Creación "
   ]
  },
  {
   "cell_type": "markdown",
   "metadata": {},
   "source": [
    "<div style=\"text-align: justify\">Una vez realizado el proceso de instalación, todo se encuentra listo para poder empezar a programar en Ruby. Para esto crearemos un archivo con extensión ***.rb***, el proceso se realizara por el terminal usando el comando ***echo. 2>MyProgram.rb*** , el cual creara un archivo vacío en la carpeta donde se encuentra actualmente.</div> "
   ]
  },
  {
   "cell_type": "markdown",
   "metadata": {},
   "source": [
    "<img src=\"screen/creacion.PNG\"/>"
   ]
  },
  {
   "cell_type": "markdown",
   "metadata": {
    "collapsed": true
   },
   "source": [
    "<div style=\"text-align: justify\">Ya que creamos el archivo, colocaremos el famoso *Hola Mundo!* para ver la correcta ejecución de Ruby, para esto abriremos nuestro archivo y colocaremos *puts 'Hola Mundo'*. De esta manera se realiza el proceso de impresion en el lenguaje.</div>"
   ]
  },
  {
   "cell_type": "markdown",
   "metadata": {},
   "source": [
    "### Ejecución de un programa"
   ]
  },
  {
   "cell_type": "markdown",
   "metadata": {},
   "source": [
    "<div style=\"text-align: justify\">Para la ejecución de un archivo, se coloca el comando *ruby* y a continuación el nombre del archivo a ejecutar. Para este ejemplo se coloca ***ruby MyProgram.rb***.</div>"
   ]
  },
  {
   "cell_type": "markdown",
   "metadata": {
    "collapsed": true
   },
   "source": [
    "<img src=\"screen/HolaMundo.PNG\"/>"
   ]
  },
  {
   "cell_type": "markdown",
   "metadata": {},
   "source": [
    "<div style=\"text-align: justify\">Listo, ya que sabemos como crear archivos y ejecutarlos a través del terminal, podemos empezar a aprender el lenguaje.</div>"
   ]
  },
  {
   "cell_type": "markdown",
   "metadata": {},
   "source": [
    "## Primeros pasos con Ruby"
   ]
  },
  {
   "cell_type": "markdown",
   "metadata": {},
   "source": [
    "### Operados básicos"
   ]
  },
  {
   "cell_type": "markdown",
   "metadata": {},
   "source": [
    "<ol>\n",
    "<li>Aritmeticos: +,-,/,*,**,%</li>\n",
    "<li>Relacionales: ==,!=,<,>,<=,>=</li>\n",
    "<li>Lógicos: and, or, !</li>\n",
    "<li>Ruby no posee operadores pre/post incremento/decremento</li>\n",
    "</ol>"
   ]
  },
  {
   "cell_type": "code",
   "execution_count": 12,
   "metadata": {
    "collapsed": false
   },
   "outputs": [
    {
     "name": "stdout",
     "output_type": "stream",
     "text": [
      "4\n"
     ]
    }
   ],
   "source": [
    "puts 2**(5%3)"
   ]
  },
  {
   "cell_type": "markdown",
   "metadata": {},
   "source": [
    "### Impresión"
   ]
  },
  {
   "cell_type": "markdown",
   "metadata": {},
   "source": [
    "En Ruby se poseen dos metodos para la impresión en consola.\n",
    "<ul>\n",
    "    <li>**puts**: Permite la impresión con un salto de linea.</li>\n",
    "    <li>**print**: Permite la impresión sin salto de linea.</li>\n",
    "<ul>"
   ]
  },
  {
   "cell_type": "markdown",
   "metadata": {},
   "source": [
    "### Operador !"
   ]
  },
  {
   "cell_type": "markdown",
   "metadata": {},
   "source": [
    "Ruby permite realizar funciones sobre objetos sin guardar cambios sobre el mismo, un claro ejemplo es la función **sort**:"
   ]
  },
  {
   "cell_type": "code",
   "execution_count": 48,
   "metadata": {
    "collapsed": false
   },
   "outputs": [
    {
     "name": "stdout",
     "output_type": "stream",
     "text": [
      "[1, 2, 3, 4, 5]\n",
      "[1, 4, 5, 3, 2]\n"
     ]
    }
   ],
   "source": [
    "array = [1,4,5,3,2]\n",
    "puts array.sort\n",
    "puts array"
   ]
  },
  {
   "cell_type": "markdown",
   "metadata": {},
   "source": [
    "Si se desea reemplazar los elementos de la lista por los elementos retornados se debe hacer uso del operador **!**."
   ]
  },
  {
   "cell_type": "code",
   "execution_count": 49,
   "metadata": {
    "collapsed": false
   },
   "outputs": [
    {
     "name": "stdout",
     "output_type": "stream",
     "text": [
      "[1, 2, 3, 4, 5]\n",
      "[1, 2, 3, 4, 5]\n"
     ]
    }
   ],
   "source": [
    "array = [1,4,5,3,2]\n",
    "puts array.sort!\n",
    "puts array"
   ]
  },
  {
   "cell_type": "markdown",
   "metadata": {},
   "source": [
    "### Cadenas"
   ]
  },
  {
   "cell_type": "markdown",
   "metadata": {},
   "source": [
    "Ruby permite el manejo de Strings de manera sencilla, estas pueden estar entre comillas dobles ***\"Cadena\"*** o en comillas sencillas ***'Cadena'***. Sin embargo son diferentes:"
   ]
  },
  {
   "cell_type": "markdown",
   "metadata": {},
   "source": [
    "Las cadenas que se encuentren entre comillas dobles permiten *de la presencia embebida de caracteres de escape precedidos por un backslash y la expresión de evaluación #{ }, por ejemplo:"
   ]
  },
  {
   "cell_type": "code",
   "execution_count": 21,
   "metadata": {
    "collapsed": false
   },
   "outputs": [
    {
     "name": "stdout",
     "output_type": "stream",
     "text": [
      "a\n",
      "b\n",
      "c\n"
     ]
    }
   ],
   "source": [
    "puts \"a\\nb\\nc\""
   ]
  },
  {
   "cell_type": "markdown",
   "metadata": {},
   "source": [
    "Para la concatenación del valor de una variable no es necesario usar el caracter **+**, para esto se usa la expresión **#{variable}**. A continuación podremos ver su funcionamiento: "
   ]
  },
  {
   "cell_type": "code",
   "execution_count": 26,
   "metadata": {
    "collapsed": false
   },
   "outputs": [
    {
     "name": "stdout",
     "output_type": "stream",
     "text": [
      "a\n",
      "ejemplo\n",
      "b\n",
      "c\n"
     ]
    }
   ],
   "source": [
    "a = 'ejemplo'\n",
    "puts \"a\\n#{a}\\nb\\nc\""
   ]
  },
  {
   "cell_type": "markdown",
   "metadata": {},
   "source": [
    "Sin embargo si se declarara en comillas simples ocurre lo siguiente:"
   ]
  },
  {
   "cell_type": "code",
   "execution_count": 27,
   "metadata": {
    "collapsed": false
   },
   "outputs": [
    {
     "name": "stdout",
     "output_type": "stream",
     "text": [
      "a\\n#{a}\\nb\\nc\n"
     ]
    }
   ],
   "source": [
    "a = 'ejemplo'\n",
    "puts 'a\\n#{a}\\nb\\nc'"
   ]
  },
  {
   "cell_type": "markdown",
   "metadata": {},
   "source": [
    "### Concatenación"
   ]
  },
  {
   "cell_type": "markdown",
   "metadata": {},
   "source": [
    "La concatenación en Ruby es muy sencilla, se realiza a través del operador **+**. Adicionalmente se puede concatenar una palabra consigo mismo una cantidad de veces determinada de la siguiente manera:"
   ]
  },
  {
   "cell_type": "code",
   "execution_count": 32,
   "metadata": {
    "collapsed": false
   },
   "outputs": [
    {
     "name": "stdout",
     "output_type": "stream",
     "text": [
      "HolaMundoHolaMundoHolaMundoHolaMundoHolaMundo\n"
     ]
    }
   ],
   "source": [
    "puts 'HolaMundo' * 5"
   ]
  },
  {
   "cell_type": "markdown",
   "metadata": {},
   "source": [
    "### Extracción de caracteres"
   ]
  },
  {
   "cell_type": "markdown",
   "metadata": {},
   "source": [
    "Se realiza de la misma manera que en python, sin embargo si se poseen indices negativos empezara desde el final de la cadena."
   ]
  },
  {
   "cell_type": "code",
   "execution_count": 2,
   "metadata": {
    "collapsed": false
   },
   "outputs": [
    {
     "name": "stdout",
     "output_type": "stream",
     "text": [
      "es\n"
     ]
    }
   ],
   "source": [
    "palabra = \"Lenguajes\"\n",
    "#    [...,-5-4,-3,-2,-1]\n",
    "puts palabra[-2,2] #Como se puede ver se toma desde la casilla -2 y se seleccionan 2 casillas adelante, incluida ella misma."
   ]
  },
  {
   "cell_type": "markdown",
   "metadata": {},
   "source": [
    "### Colecciones"
   ]
  },
  {
   "cell_type": "markdown",
   "metadata": {},
   "source": [
    "#### Listas"
   ]
  },
  {
   "cell_type": "markdown",
   "metadata": {},
   "source": [
    "Las listas se pueden crear listando elementos entre corchetes y separando cada elemento por comas. Estas listas pueden almacenar objetos de distintas clases sin restricción."
   ]
  },
  {
   "cell_type": "markdown",
   "metadata": {},
   "source": [
    "La manera de concatenar listas es igual a como se realiza con cadenas, usando el operador **+**."
   ]
  },
  {
   "cell_type": "markdown",
   "metadata": {},
   "source": [
    "Las listas se pueden convertir a y obtener cadenas con los métodos **join** y **split** respectivamente."
   ]
  },
  {
   "cell_type": "code",
   "execution_count": 42,
   "metadata": {
    "collapsed": false
   },
   "outputs": [
    {
     "name": "stdout",
     "output_type": "stream",
     "text": [
      "[1, 2, 3, 4, 5, 6]\n"
     ]
    }
   ],
   "source": [
    "array_1 = [1,2,3]\n",
    "array_2 = [4,5,6]\n",
    "puts array_1 + array_2 #Concatenación de listas."
   ]
  },
  {
   "cell_type": "code",
   "execution_count": 44,
   "metadata": {
    "collapsed": false
   },
   "outputs": [
    {
     "name": "stdout",
     "output_type": "stream",
     "text": [
      "Hola mundo\n"
     ]
    }
   ],
   "source": [
    "array_3 = ['H','o','l','a']\n",
    "puts array_3.join + \" mundo\""
   ]
  },
  {
   "cell_type": "markdown",
   "metadata": {},
   "source": [
    "##### Realizar inserciones en listas "
   ]
  },
  {
   "cell_type": "markdown",
   "metadata": {},
   "source": [
    "La manera de agregar un nuevo elemento a una lista es mediante la función **.push( Objeto )**."
   ]
  },
  {
   "cell_type": "code",
   "execution_count": 21,
   "metadata": {
    "collapsed": false
   },
   "outputs": [
    {
     "name": "stdout",
     "output_type": "stream",
     "text": [
      "[\"a\", \"Lenguajes\", 2]\n"
     ]
    }
   ],
   "source": [
    "array = ['a',\"Lenguajes\"]\n",
    "array.push(2)\n",
    "puts array"
   ]
  },
  {
   "cell_type": "markdown",
   "metadata": {},
   "source": [
    "Sin embargo, esta operación se puede realizar también con el operador **<<**"
   ]
  },
  {
   "cell_type": "code",
   "execution_count": 41,
   "metadata": {
    "collapsed": false
   },
   "outputs": [
    {
     "name": "stdout",
     "output_type": "stream",
     "text": [
      "[\"a\", \"Lenguajes\", 2]\n"
     ]
    }
   ],
   "source": [
    "array = ['a',\"Lenguajes\"]\n",
    "array << 2\n",
    "puts array"
   ]
  },
  {
   "cell_type": "markdown",
   "metadata": {},
   "source": [
    "Si lo que se desea es agregar un nuevo elemento en una posición especifica, se debe hacer uso de la función **.insert**."
   ]
  },
  {
   "cell_type": "code",
   "execution_count": 42,
   "metadata": {
    "collapsed": false
   },
   "outputs": [
    {
     "name": "stdout",
     "output_type": "stream",
     "text": [
      "[1, \"Lenguajes\", 2, 3, 4]\n"
     ]
    }
   ],
   "source": [
    "array = [1,\"Lenguajes\",3,4]\n",
    "array.insert(2,2)\n",
    "puts array"
   ]
  },
  {
   "cell_type": "markdown",
   "metadata": {},
   "source": [
    "#### Acceder a un elemento"
   ]
  },
  {
   "cell_type": "markdown",
   "metadata": {},
   "source": [
    "Los elementos en una lista pueden ser obtenido a través del método **[]**. De la misma manera que las cadenas. Sin embargo cuando se trata de acceder a una posición de un arreglo que no existe, Ruby no generara una excepción, simplemente retorna el objeto **nil**."
   ]
  },
  {
   "cell_type": "code",
   "execution_count": 24,
   "metadata": {
    "collapsed": false
   },
   "outputs": [
    {
     "name": "stdout",
     "output_type": "stream",
     "text": [
      "true\n"
     ]
    }
   ],
   "source": [
    "array = []\n",
    "puts a[100] == nil"
   ]
  },
  {
   "cell_type": "markdown",
   "metadata": {},
   "source": [
    "#### first y last"
   ]
  },
  {
   "cell_type": "markdown",
   "metadata": {},
   "source": [
    "Dos funciones que pueden ser muy útiles en la implementación de estructuras de datos son **first** y **last**, los cuales retornaran el primer y último elemento de una lista respectivamente."
   ]
  },
  {
   "cell_type": "markdown",
   "metadata": {},
   "source": [
    "#### Drop"
   ]
  },
  {
   "cell_type": "markdown",
   "metadata": {},
   "source": [
    "La función drop nos permite retornar los elementos de la lista luego de eliminar los n elementos del arreglo.  "
   ]
  },
  {
   "cell_type": "code",
   "execution_count": 38,
   "metadata": {
    "collapsed": false
   },
   "outputs": [
    {
     "name": "stdout",
     "output_type": "stream",
     "text": [
      "[2, 3, 4, 5]\n",
      "[2, 3, 4, 5]\n",
      "[3, 4, 5]\n",
      "[2, 3, 4, 5]\n"
     ]
    }
   ],
   "source": [
    "array = [1,2,3,4,5]\n",
    "puts array.drop(1)\n",
    "array = array.drop(1)\n",
    "puts array\n",
    "puts array.drop(1)\n",
    "puts array"
   ]
  },
  {
   "cell_type": "markdown",
   "metadata": {},
   "source": [
    "#### Pop"
   ]
  },
  {
   "cell_type": "markdown",
   "metadata": {},
   "source": [
    "El metodo permite eliminar los ultimos n elementos de la lista, y adicionalmente estos son retornados."
   ]
  },
  {
   "cell_type": "code",
   "execution_count": 36,
   "metadata": {
    "collapsed": false
   },
   "outputs": [
    {
     "name": "stdout",
     "output_type": "stream",
     "text": [
      "[4, 5]\n",
      "[1, 2, 3]\n"
     ]
    }
   ],
   "source": [
    "array = [1,2,3,4,5]\n",
    "puts array.pop(2) #=> [4, 5]\n",
    "puts array #=> [1, 2, 3]"
   ]
  },
  {
   "cell_type": "markdown",
   "metadata": {},
   "source": [
    "Si es necesario eliminar un elemento en una posición especifica, se puede realizar mediante el llamado de la función **.delete_at** que recibira con parametro el indice del elemento a eliminar."
   ]
  },
  {
   "cell_type": "code",
   "execution_count": 43,
   "metadata": {
    "collapsed": false
   },
   "outputs": [
    {
     "name": "stdout",
     "output_type": "stream",
     "text": [
      "3\n",
      "[1, 2, 4, 5]\n"
     ]
    }
   ],
   "source": [
    "arr = [1,2,3,4,5]\n",
    "puts arr.delete_at(2) #=> 3\n",
    "puts arr #=> [1, 2, 4, 5]"
   ]
  },
  {
   "cell_type": "markdown",
   "metadata": {},
   "source": [
    "#### shift"
   ]
  },
  {
   "cell_type": "markdown",
   "metadata": {},
   "source": [
    "La función shift permite remover y retornar el primer elemento de un arreglo."
   ]
  },
  {
   "cell_type": "code",
   "execution_count": 44,
   "metadata": {
    "collapsed": false
   },
   "outputs": [
    {
     "name": "stdout",
     "output_type": "stream",
     "text": [
      "1\n",
      "[2, 3, 4, 5]\n"
     ]
    }
   ],
   "source": [
    "arr = [1,2,3,4,5]\n",
    "puts arr.shift #=> 1\n",
    "puts arr #=> [2, 3, 4, 5]"
   ]
  },
  {
   "cell_type": "markdown",
   "metadata": {},
   "source": [
    "#### Tamaño"
   ]
  },
  {
   "cell_type": "markdown",
   "metadata": {},
   "source": [
    "La función **.length** retorna el tamaño del de la lista, adicionalmente se puede hacer uso de la función **.empty**, la cual retornara un booleano indicando si la lista se encuentra vacia."
   ]
  },
  {
   "cell_type": "markdown",
   "metadata": {},
   "source": [
    "#### Elementos repetidos"
   ]
  },
  {
   "cell_type": "markdown",
   "metadata": {},
   "source": [
    "Una función que nos permite eliminar los elementos repetidos de una lista es la función **.uniq**:"
   ]
  },
  {
   "cell_type": "code",
   "execution_count": 51,
   "metadata": {
    "collapsed": false
   },
   "outputs": [
    {
     "name": "stdout",
     "output_type": "stream",
     "text": [
      "[1, 2, 3, 4, 5]\n"
     ]
    }
   ],
   "source": [
    "array = [1,2,3,4,5,1,2,3,4,5]\n",
    "puts array.uniq!"
   ]
  },
  {
   "cell_type": "markdown",
   "metadata": {},
   "source": [
    "### Diccionarios"
   ]
  },
  {
   "cell_type": "markdown",
   "metadata": {},
   "source": [
    "En Ruby a los diccionarios se les denomina *hash*. Al igual que en Python, estan compuestos por llaves y valores."
   ]
  },
  {
   "cell_type": "markdown",
   "metadata": {},
   "source": [
    "La manera de declarar un arreglar y acceder a un valor con su llave es la siguiente:"
   ]
  },
  {
   "cell_type": "code",
   "execution_count": 48,
   "metadata": {
    "collapsed": false
   },
   "outputs": [
    {
     "name": "stdout",
     "output_type": "stream",
     "text": [
      "{1=>2, \"2\"=>4, 3=>\"Nuevo\"}\n"
     ]
    }
   ],
   "source": [
    "dict = {1 => 2, \"2\" => \"4\"}\n",
    "dict[\"2\"] = dict[1] + 2 \n",
    "puts dict"
   ]
  },
  {
   "cell_type": "markdown",
   "metadata": {},
   "source": [
    "#### Agregar nueva llave y elemento"
   ]
  },
  {
   "cell_type": "markdown",
   "metadata": {},
   "source": [
    "La manera en que podemos agregar una nueva llave con su respectivo valor es con el operador **[]**, que recibira la llave, seguido de una igualación que indicara el valor de la llave:"
   ]
  },
  {
   "cell_type": "code",
   "execution_count": 52,
   "metadata": {
    "collapsed": false
   },
   "outputs": [
    {
     "name": "stdout",
     "output_type": "stream",
     "text": [
      "{1=>2, \"2\"=>\"4\", 3=>\"Nuevo\"}\n"
     ]
    }
   ],
   "source": [
    "dict = {1 => 2, \"2\" => \"4\"}\n",
    "dict[3] = \"Nuevo\"   # agregamos una nueva llave\n",
    "puts dict"
   ]
  },
  {
   "cell_type": "markdown",
   "metadata": {},
   "source": [
    "#### Invert"
   ]
  },
  {
   "cell_type": "markdown",
   "metadata": {},
   "source": [
    "Esta función nos permitira invertir las llaves con los valores, sin embargo esta función no guarda el Hash retornado, y adicionalmente no permite el uso del operador **!**, como se puede observar a continuación:"
   ]
  },
  {
   "cell_type": "code",
   "execution_count": 58,
   "metadata": {
    "collapsed": false,
    "scrolled": true
   },
   "outputs": [
    {
     "name": "stdout",
     "output_type": "stream",
     "text": [
      "{2=>1, \"4\"=>\"2\"}\n",
      "{1=>2, \"2\"=>\"4\"}\n"
     ]
    }
   ],
   "source": [
    "dict = {1 => 2, \"2\" => \"4\"}\n",
    "puts dict.invert\n",
    "puts dict"
   ]
  },
  {
   "cell_type": "markdown",
   "metadata": {},
   "source": [
    "#### Delete"
   ]
  },
  {
   "cell_type": "markdown",
   "metadata": {},
   "source": [
    "Esta es la función definida por ruby para eliminar un elemento del hash **por su llave**, sin embargo se pueden eliminar elementos por su valor haciendo uso de la función **.invert**."
   ]
  },
  {
   "cell_type": "code",
   "execution_count": 59,
   "metadata": {
    "collapsed": false
   },
   "outputs": [
    {
     "name": "stdout",
     "output_type": "stream",
     "text": [
      "{\"2\"=>\"4\"}\n"
     ]
    }
   ],
   "source": [
    "dict = {1 => 2, \"2\" => \"4\"}\n",
    "dict.delete( 1 )\n",
    "puts dict"
   ]
  },
  {
   "cell_type": "markdown",
   "metadata": {},
   "source": [
    "### Rangos"
   ]
  },
  {
   "cell_type": "markdown",
   "metadata": {},
   "source": [
    "Ruby permite implementar rangos de una manera muy sencilla:"
   ]
  },
  {
   "cell_type": "code",
   "execution_count": 65,
   "metadata": {
    "collapsed": false
   },
   "outputs": [
    {
     "name": "stdout",
     "output_type": "stream",
     "text": [
      "[1, 2, 3, 4, 5, 6, 7, 8, 9, 10]\n"
     ]
    }
   ],
   "source": [
    "a = (1..10).to_a\n",
    "puts a"
   ]
  },
  {
   "cell_type": "markdown",
   "metadata": {},
   "source": [
    "Si no se desea incluir el ultimo numero se deben colocar **...**"
   ]
  },
  {
   "cell_type": "code",
   "execution_count": 70,
   "metadata": {
    "collapsed": false
   },
   "outputs": [
    {
     "name": "stdout",
     "output_type": "stream",
     "text": [
      "[1, 2, 3, 4, 5, 6, 7, 8, 9]\n"
     ]
    }
   ],
   "source": [
    "a = (1...10).to_a\n",
    "puts a"
   ]
  },
  {
   "cell_type": "markdown",
   "metadata": {},
   "source": [
    "### Simbolos"
   ]
  },
  {
   "cell_type": "markdown",
   "metadata": {},
   "source": [
    "Los símbolos son el objeto mas básico de Ruby, estos útiles por que dado un símbolo, se refiere al mismo objeto en todo el programa. Por esta razón son más eficientes que las cadenas: dos strings con el mismo nombre, son dos objetos distintos. Esto implica un ahorra de tiempo y memoria."
   ]
  },
  {
   "cell_type": "code",
   "execution_count": 59,
   "metadata": {
    "collapsed": false
   },
   "outputs": [
    {
     "name": "stdout",
     "output_type": "stream",
     "text": [
      "40163604\n",
      "40162272\n",
      "2151764\n",
      "2151764\n"
     ]
    }
   ],
   "source": [
    "puts \"cadena\".object_id\n",
    "puts \"cadena\".object_id\n",
    "puts :cadena.object_id\n",
    "puts :cadena.object_id"
   ]
  },
  {
   "cell_type": "markdown",
   "metadata": {
    "collapsed": true
   },
   "source": [
    "## Estructuras de control"
   ]
  },
  {
   "cell_type": "markdown",
   "metadata": {},
   "source": [
    "### While"
   ]
  },
  {
   "cell_type": "markdown",
   "metadata": {},
   "source": [
    "La manera de implementar un **while** es muy similar a C, sin embargo se poseen 4 palabras reservadas para hacer operaciones especiales en el cada ciclo:"
   ]
  },
  {
   "cell_type": "markdown",
   "metadata": {},
   "source": [
    "<ol>\n",
    "   <li>**break**: Interrupe la ejecución del while totalmente, similarmente como ocurre en C.</li>\n",
    "   <li>**next**: Permite terminar la ejecución del bucle actual pero vuelve continua con la verificación de la condición.</li>\n",
    "   <li>**redo**: Permite reiniciar la iteración actual</li>\n",
    "   <li>**return**: Permite retornar un valor en el metodo que se encuentre actualmente, por lo cual interrupe la ejecución del ciclo y del método actual.</li>\n",
    "</ol>"
   ]
  },
  {
   "cell_type": "code",
   "execution_count": 1,
   "metadata": {
    "collapsed": false
   },
   "outputs": [
    {
     "name": "stdout",
     "output_type": "stream",
     "text": [
      "0\n",
      "1\n",
      "2\n"
     ]
    }
   ],
   "source": [
    "i = 0\n",
    "while( true )\n",
    "   puts i\n",
    "   i += 1\n",
    "   if i == 3\n",
    "     break\n",
    "   end \n",
    "   redo #Debido a que se encuentra al final no modifica el comportamiento del ciclo, \n",
    "        #ya que los cambios realizados durante el ciclo se mantienen.\n",
    "end"
   ]
  },
  {
   "cell_type": "markdown",
   "metadata": {},
   "source": [
    "Se debe tener cuidado con los operadores especiales ya que si son utilizados de manera incorrecta pueden generar ciclos infinitos."
   ]
  },
  {
   "cell_type": "markdown",
   "metadata": {},
   "source": [
    "Tambien Ruby posee la estructura de control **until**, que funciona de manera similar a la negación de la condición del **while**."
   ]
  },
  {
   "cell_type": "markdown",
   "metadata": {},
   "source": [
    "### Case"
   ]
  },
  {
   "cell_type": "markdown",
   "metadata": {},
   "source": [
    "La sentencia **case** es usada para comprobar un valor, su funcionamiento es similar a un **switch** de Java. "
   ]
  },
  {
   "cell_type": "code",
   "execution_count": 3,
   "metadata": {
    "collapsed": false
   },
   "outputs": [
    {
     "name": "stdout",
     "output_type": "stream",
     "text": [
      "1 - 10, o puede ser 30\n"
     ]
    }
   ],
   "source": [
    "valor = 30\n",
    "case valor\n",
    "  when 30, (1..10)\n",
    "    puts \"1 - 10\" + \", o puede ser 30\"\n",
    "  when 11..20\n",
    "    puts \"11 - 20\"\n",
    "end"
   ]
  },
  {
   "cell_type": "markdown",
   "metadata": {
    "collapsed": true
   },
   "source": [
    "### For"
   ]
  },
  {
   "cell_type": "markdown",
   "metadata": {},
   "source": [
    "#### En colecciones"
   ]
  },
  {
   "cell_type": "markdown",
   "metadata": {},
   "source": [
    "Se pueden recorrer colecciones de manera compacta y sencilla, ejecutandose una vez por cada de elemento de la colección:"
   ]
  },
  {
   "cell_type": "code",
   "execution_count": 4,
   "metadata": {
    "collapsed": false
   },
   "outputs": [
    {
     "name": "stdout",
     "output_type": "stream",
     "text": [
      "1\n",
      "2\n",
      "3\n",
      "4\n",
      "5\n"
     ]
    },
    {
     "data": {
      "text/plain": [
       "[1, 2, 3, 4, 5]"
      ]
     },
     "execution_count": 4,
     "metadata": {},
     "output_type": "execute_result"
    }
   ],
   "source": [
    "numeros = [1,2,3,4,5]\n",
    "for numero in numeros\n",
    "  puts numero\n",
    "end"
   ]
  },
  {
   "cell_type": "markdown",
   "metadata": {},
   "source": [
    "#### En rangos"
   ]
  },
  {
   "cell_type": "markdown",
   "metadata": {},
   "source": [
    "De manera similar se puede realizar un **for** en un rango determinado de la siguiente manera:"
   ]
  },
  {
   "cell_type": "code",
   "execution_count": 6,
   "metadata": {
    "collapsed": false
   },
   "outputs": [
    {
     "name": "stdout",
     "output_type": "stream",
     "text": [
      "0\n",
      "1\n",
      "2\n",
      "3\n",
      "4\n"
     ]
    },
    {
     "data": {
      "text/plain": [
       "0..4"
      ]
     },
     "execution_count": 6,
     "metadata": {},
     "output_type": "execute_result"
    }
   ],
   "source": [
    "for i in (0..4)\n",
    "  puts i\n",
    "end"
   ]
  },
  {
   "cell_type": "markdown",
   "metadata": {},
   "source": [
    "## Iteradores"
   ]
  },
  {
   "cell_type": "markdown",
   "metadata": {},
   "source": [
    "Los iteradores nos permiten una accion repetidas veces, parecido a un ciclo, sin embargo su codificación es diferente."
   ]
  },
  {
   "cell_type": "markdown",
   "metadata": {},
   "source": [
    "### Cadenas"
   ]
  },
  {
   "cell_type": "markdown",
   "metadata": {},
   "source": [
    "Las cadenas en Ruby tienen iteradores que puede ser útiles, entre los cuales encontramos:"
   ]
  },
  {
   "cell_type": "markdown",
   "metadata": {},
   "source": [
    "#### each_byte"
   ]
  },
  {
   "cell_type": "markdown",
   "metadata": {},
   "source": [
    "Permite iterar a través de cada letra de la cadena, conviertiendo su valor a su respectivo valor ASCII, si se desea convertior un numero ASCII en su respectiva letra se debe hacer uso de la función .chr."
   ]
  },
  {
   "cell_type": "code",
   "execution_count": 7,
   "metadata": {
    "collapsed": false
   },
   "outputs": [
    {
     "name": "stdout",
     "output_type": "stream",
     "text": [
      "99 97 100 101 110 97  \n",
      "c a d e n a "
     ]
    },
    {
     "data": {
      "text/plain": [
       "\"cadena\""
      ]
     },
     "execution_count": 7,
     "metadata": {},
     "output_type": "execute_result"
    }
   ],
   "source": [
    "\"cadena\".each_byte{|letra| print letra, ' '}\n",
    "puts ' '\n",
    "\"cadena\".each_byte{|letra| print letra.chr, ' '}"
   ]
  },
  {
   "cell_type": "markdown",
   "metadata": {},
   "source": [
    "#### each_line"
   ]
  },
  {
   "cell_type": "markdown",
   "metadata": {},
   "source": [
    "Permite iterar a través de cada linea de la cadena. Se debe recordar que las comillas dobles nos permiten tener la presencia embebida de caracteres de escape precedidos por un backslash."
   ]
  },
  {
   "cell_type": "code",
   "execution_count": 11,
   "metadata": {
    "collapsed": false
   },
   "outputs": [
    {
     "name": "stdout",
     "output_type": "stream",
     "text": [
      "Esto\n",
      "es\n",
      "una\n",
      "frase"
     ]
    },
    {
     "data": {
      "text/plain": [
       "\"Esto\\nes\\nuna\\nfrase\""
      ]
     },
     "execution_count": 11,
     "metadata": {},
     "output_type": "execute_result"
    }
   ],
   "source": [
    "\"Esto\\nes\\nuna\\nfrase\".each_line{|linea| print linea}\n"
   ]
  },
  {
   "cell_type": "markdown",
   "metadata": {},
   "source": [
    "### En colecciones"
   ]
  },
  {
   "cell_type": "markdown",
   "metadata": {},
   "source": [
    "#### each"
   ]
  },
  {
   "cell_type": "markdown",
   "metadata": {},
   "source": [
    "Esta función tiene un comportamiento de manera similar al **for in** para recorrer elementos de una lista."
   ]
  },
  {
   "cell_type": "code",
   "execution_count": 13,
   "metadata": {
    "collapsed": false
   },
   "outputs": [
    {
     "name": "stdout",
     "output_type": "stream",
     "text": [
      "1\n",
      "2\n",
      "3\n",
      "4\n"
     ]
    },
    {
     "data": {
      "text/plain": [
       "[1, 2, 3, 4]"
      ]
     },
     "execution_count": 13,
     "metadata": {},
     "output_type": "execute_result"
    }
   ],
   "source": [
    "[1,2,3,4].each do |f| \n",
    "  puts f\n",
    "end"
   ]
  },
  {
   "cell_type": "markdown",
   "metadata": {},
   "source": [
    "#### collect"
   ]
  },
  {
   "cell_type": "markdown",
   "metadata": {},
   "source": [
    "Esta función es otro iterador que fue implementado en ruby, retorna todos los elementos de una colección."
   ]
  },
  {
   "cell_type": "code",
   "execution_count": 11,
   "metadata": {
    "collapsed": false
   },
   "outputs": [
    {
     "name": "stdout",
     "output_type": "stream",
     "text": [
      "[10, 20, 30, 40, 50]\n"
     ]
    }
   ],
   "source": [
    "a = [1,2,3,4,5]\n",
    "b = a.collect{|x| 10*x}\n",
    "puts b"
   ]
  },
  {
   "cell_type": "markdown",
   "metadata": {},
   "source": [
    "Normalmente se utiliza cuando se desea crear un nuevo arreglo que posea cambios del arreglo normal. Si se desea copiar un arreglo se recomienda usar la funcione **clone**."
   ]
  },
  {
   "cell_type": "code",
   "execution_count": 13,
   "metadata": {
    "collapsed": false
   },
   "outputs": [
    {
     "name": "stdout",
     "output_type": "stream",
     "text": [
      "[1, 2]\n"
     ]
    }
   ],
   "source": [
    "a = [1,2]\n",
    "b = a.clone\n",
    "puts b"
   ]
  },
  {
   "cell_type": "markdown",
   "metadata": {},
   "source": [
    "Se recuerda que debido a que en Ruby todo es interpretado como un objeto, la importancia del comando **clone** es principalmente cuando se desea tener dos objetos totalmente diferentes en cada uno, ya que cuando se iguala un arreglo a otro, estos quedan apuntando al mismo objeto, y los cambios realizados en uno también se reflejan en el otro."
   ]
  },
  {
   "cell_type": "code",
   "execution_count": 14,
   "metadata": {
    "collapsed": false
   },
   "outputs": [
    {
     "name": "stdout",
     "output_type": "stream",
     "text": [
      "[1, 3]\n",
      "[1, 3]\n"
     ]
    }
   ],
   "source": [
    "a = [1,2]\n",
    "b = a\n",
    "a[1] = 3\n",
    "puts a\n",
    "puts b"
   ]
  },
  {
   "cell_type": "markdown",
   "metadata": {},
   "source": [
    "## Orientado a objetos"
   ]
  },
  {
   "cell_type": "markdown",
   "metadata": {},
   "source": [
    "Una vez sabemos realizar programas sencillos, podremos continuar con mas caracteristicas importantes del lenguaje. Ruby es un lenguaje puramente orientado a objetos, como pudimos observar en la explicación anterior, todo en ruby es interpretado como un objeto, a continuación veremos algunas caracteristicas importantes de Ruby aplicando conceptos de la programación orientada a objetos."
   ]
  },
  {
   "cell_type": "markdown",
   "metadata": {},
   "source": [
    "### Métodos ###"
   ]
  },
  {
   "cell_type": "markdown",
   "metadata": {},
   "source": [
    "Un método de un objeto en Ruby es muy sencillo de usar, solo se debe colocar la instancia de la clase con un **.** y el nombre del método del objeto a llamar, con sus respectivos parametros que deben ir en paréntesis, en caso de que el método sea definido de esta manera."
   ]
  },
  {
   "cell_type": "markdown",
   "metadata": {},
   "source": [
    "Algunos métodos predefinidos de los objetos en Ruby son:"
   ]
  },
  {
   "cell_type": "markdown",
   "metadata": {},
   "source": [
    "<ol>\n",
    "   <li>**length**: Retorna el tamaño de la lista, tambien puede ser llamado sobre cadenas, donde retornara el número de caracteres.</li>\n",
    "   <li>**class**: Retorna la clase del objeto, este método esta sobrecargado</li>\n",
    "</ol>"
   ]
  },
  {
   "cell_type": "markdown",
   "metadata": {},
   "source": [
    "La manera de definir un método es la siguiente:"
   ]
  },
  {
   "cell_type": "code",
   "execution_count": null,
   "metadata": {
    "collapsed": true
   },
   "outputs": [],
   "source": [
    "def nombreDelMetodo\n",
    "  #Comandos\n",
    "end"
   ]
  },
  {
   "cell_type": "markdown",
   "metadata": {},
   "source": [
    "Sin embargo, en caso de recibir paramétros estos deben ir entre paréntesis, separados por comas sin especificar el tipo de dato de cada variable:"
   ]
  },
  {
   "cell_type": "code",
   "execution_count": null,
   "metadata": {
    "collapsed": true
   },
   "outputs": [],
   "source": [
    "def nombreDelMetodo(a,b)\n",
    "  #Comandos\n",
    "end"
   ]
  },
  {
   "cell_type": "markdown",
   "metadata": {},
   "source": [
    "#### Polimorfismo ####"
   ]
  },
  {
   "cell_type": "markdown",
   "metadata": {},
   "source": [
    "Ruby no permite una manera convencional de realizar polimorfismo (también conocido como sobrecarga de métodos), para poder realizarlo se debe implementar de la siguiente manera:"
   ]
  },
  {
   "cell_type": "code",
   "execution_count": 22,
   "metadata": {
    "collapsed": false
   },
   "outputs": [
    {
     "name": "stdout",
     "output_type": "stream",
     "text": [
      "Dos argumentos\n"
     ]
    }
   ],
   "source": [
    "def nombre(*args) # el simbolo * implica número variable de argumentos\n",
    "  if args.size < 2 || args.size > 3\n",
    "    puts 'ERROR: Este método recibe dos o tres argumentos'\n",
    "  else\n",
    "    if args.size == 2\n",
    "      puts 'Dos argumentos'\n",
    "    else\n",
    "      puts 'Tres argumentos'\n",
    "    end\n",
    "  end\n",
    "end\n",
    "\n",
    "nombre(a,b)"
   ]
  },
  {
   "cell_type": "markdown",
   "metadata": {},
   "source": [
    "A pesar de no ser una manera totalmente cómoda y óptima se debe realizar de esa forma."
   ]
  },
  {
   "cell_type": "markdown",
   "metadata": {},
   "source": [
    "### Tipos de variables ###"
   ]
  },
  {
   "cell_type": "markdown",
   "metadata": {},
   "source": [
    "Ruby permite declarar distintas clases de variables, las cuales se especifican de la siguiente manera:"
   ]
  },
  {
   "cell_type": "markdown",
   "metadata": {},
   "source": [
    "<ol>\n",
    "   <li>**$*[a-z]+[a-zA-Z0-9]****: Variable global, puede ser accedida desde cualquier parte del código</li>\n",
    "   <li>**@*[a-z]+[a-zA-Z0-9]****: Variable de instancia</li>\n",
    "   <li>[a-z]+[a-zA-Z0-9]*: Variable local</li>\n",
    "   <li>[A-Z]+[a-zA-Z0-9]*: Constante</li>\n",
    "</ol>"
   ]
  },
  {
   "cell_type": "markdown",
   "metadata": {
    "collapsed": true
   },
   "source": [
    "#### Método .defined?"
   ]
  },
  {
   "cell_type": "markdown",
   "metadata": {},
   "source": [
    "Este método nos permite saber si una variable a sido declarado y en dado nos devuelve una descripción de la variable."
   ]
  },
  {
   "cell_type": "code",
   "execution_count": 66,
   "metadata": {
    "collapsed": false
   },
   "outputs": [
    {
     "name": "stderr",
     "output_type": "stream",
     "text": [
      "<main>:3: warning: already initialized constant Var4\n",
      "<main>:3: warning: previous definition of Var4 was here\n"
     ]
    },
    {
     "name": "stdout",
     "output_type": "stream",
     "text": [
      "local-variable\n",
      "constant\n"
     ]
    }
   ],
   "source": [
    "var1 = 1\n",
    "@var2 = 1\n",
    "$var3 = 1\n",
    "Var4 = 1\n",
    "puts defined? var1\n",
    "puts defined? Var4"
   ]
  },
  {
   "cell_type": "markdown",
   "metadata": {},
   "source": [
    "Adicionalmente el operador **||=** nos permite asignar valores a una variable únicamente si esta no ha sido declarada anteriormente:"
   ]
  },
  {
   "cell_type": "code",
   "execution_count": 18,
   "metadata": {
    "collapsed": false
   },
   "outputs": [
    {
     "name": "stdout",
     "output_type": "stream",
     "text": [
      "2\n",
      "4\n"
     ]
    }
   ],
   "source": [
    "a = 2\n",
    "a ||= 3 #Como esta variable ha sido declarada anteriomente en el programa, no realizara la asignación\n",
    "e ||= 4 #En esta caso, debido a que la variable no habia sido declarada anteriomente en el programa, se realiza la asignación.\n",
    "puts a\n",
    "puts e"
   ]
  },
  {
   "cell_type": "markdown",
   "metadata": {
    "collapsed": true
   },
   "source": [
    "### Clases"
   ]
  },
  {
   "cell_type": "markdown",
   "metadata": {},
   "source": [
    "Las clases en Ruby son muy fáciles de declarar, su estructura es muy similar a la de Python, por lo cual nos permite declarar atributos y metodos a una clase de manera intuitiva e interactuar con ellos."
   ]
  },
  {
   "cell_type": "markdown",
   "metadata": {},
   "source": [
    "La estructura de una clase en Ruby es la siguiente:"
   ]
  },
  {
   "cell_type": "code",
   "execution_count": 60,
   "metadata": {
    "collapsed": false
   },
   "outputs": [
    {
     "name": "stdout",
     "output_type": "stream",
     "text": [
      "Hola! mi nombre es Andres\n"
     ]
    }
   ],
   "source": [
    "# Definimos la clase Persona\n",
    "class Persona\n",
    " \n",
    "  # Constructor de la clase\n",
    "  def initialize(nombre,edad)  \n",
    "    # atributos   \n",
    "    @nombre = nombre  \n",
    "    @edad = edad\n",
    "  end  \n",
    " \n",
    "  # método saludar\n",
    "  def saludar\n",
    "    puts \"Hola! mi nombre es #{@nombre}\"   \n",
    "  end\n",
    " \n",
    "end \n",
    "\n",
    "andres = Persona.new(\"Andres\",20)\n",
    "andres.saludar"
   ]
  },
  {
   "cell_type": "markdown",
   "metadata": {},
   "source": [
    "Las variables definidas con @ son consideradas como los atributos de la clases y estos pueden accedidos desde cualquier método de la clase."
   ]
  },
  {
   "cell_type": "markdown",
   "metadata": {},
   "source": [
    "### Herencia"
   ]
  },
  {
   "cell_type": "markdown",
   "metadata": {},
   "source": [
    "Para poder implementar herencia en nuestro código solo debemos hacer uso del caracter **<** en la definición de la clase, de esta manera *extenderemos* de la clase declarada a la derecha del operador."
   ]
  },
  {
   "cell_type": "code",
   "execution_count": 39,
   "metadata": {
    "collapsed": false
   },
   "outputs": [
    {
     "name": "stdout",
     "output_type": "stream",
     "text": [
      "Inhalar y exhalar\n"
     ]
    }
   ],
   "source": [
    "class Animal\n",
    "  def respira\n",
    "    puts \"Inhalar y exhalar\"\n",
    "  end\n",
    "end\n",
    "\n",
    "class Perro<Animal\n",
    "  def ladrar\n",
    "    puts \"Guau\"\n",
    "  end\n",
    "end\n",
    "\n",
    "Perro.new.respira"
   ]
  },
  {
   "cell_type": "markdown",
   "metadata": {},
   "source": [
    "Sin embargo hay casos en los que una subclase no deberia heredar el comportamiento de la clase padre por lo que es posible reescribir el método en la subclase."
   ]
  },
  {
   "cell_type": "code",
   "execution_count": 42,
   "metadata": {
    "collapsed": false
   },
   "outputs": [
    {
     "name": "stdout",
     "output_type": "stream",
     "text": [
      "Yo no vuelo\n"
     ]
    }
   ],
   "source": [
    "class Ave\n",
    "  def vuela\n",
    "    puts \"Volando\"\n",
    "  end\n",
    "end\n",
    "\n",
    "class Pinguino<Ave\n",
    "  def vuela\n",
    "    puts \"Yo no vuelo\"\n",
    "  end\n",
    "end\n",
    "Pinguino.new.vuela"
   ]
  },
  {
   "cell_type": "markdown",
   "metadata": {},
   "source": [
    "Ruby permite hacer uso de la palabra reservada **super**, que permite ejecutar el código del método definido en el padre y adicionalmente ejecutar el método definido en la subclase. "
   ]
  },
  {
   "cell_type": "markdown",
   "metadata": {},
   "source": [
    "### Encapsulamiento"
   ]
  },
  {
   "cell_type": "markdown",
   "metadata": {},
   "source": [
    "Ruby nos permite aplicar encapsulamiento a métodos de nuestra clase declarando la palabra **private** y el nombre de la clase como simbolo."
   ]
  },
  {
   "cell_type": "code",
   "execution_count": 58,
   "metadata": {
    "collapsed": false
   },
   "outputs": [
    {
     "name": "stdout",
     "output_type": "stream",
     "text": [
      "1000\n"
     ]
    }
   ],
   "source": [
    "class Cuenta\n",
    "  \n",
    "  def initialize(ahorro,clave)\n",
    "    @ahorro = ahorro\n",
    "    @clave = clave\n",
    "  end\n",
    "  \n",
    "  \n",
    "  def balance(clave)\n",
    "    if clave == @clave\n",
    "      return getAhorro\n",
    "    else\n",
    "      return \"No autorizado\"\n",
    "    end\n",
    "  end\n",
    "  \n",
    "  \n",
    "  def getAhorro\n",
    "    return @ahorro\n",
    "  end\n",
    "  \n",
    "  private :getAhorro\n",
    "end\n",
    "a = Cuenta.new(1000,1234)\n",
    "puts a.balance(1234)"
   ]
  },
  {
   "cell_type": "markdown",
   "metadata": {},
   "source": [
    "### Métodos singleton"
   ]
  },
  {
   "cell_type": "markdown",
   "metadata": {},
   "source": [
    "Algunas veces es necesario modificar el comportamiento de un método de algun objeto, lo que nos implicaria tener que crear una nueva clase para ese objeto. Ruby nos permite modificar el comportamiento de algun objeto de manera individual."
   ]
  },
  {
   "cell_type": "code",
   "execution_count": 61,
   "metadata": {
    "collapsed": false
   },
   "outputs": [
    {
     "name": "stdout",
     "output_type": "stream",
     "text": [
      "Regular\n",
      "Regular\n",
      "Regular\n",
      "PEAMA\n"
     ]
    }
   ],
   "source": [
    "class Estudiante\n",
    "  \n",
    "  def admision\n",
    "    return \"Regular\"\n",
    "  end\n",
    "  \n",
    "end\n",
    "\n",
    "estudiante_1 = Estudiante.new\n",
    "estudiante_2 = Estudiante.new\n",
    "estudiante_3 = Estudiante.new\n",
    "estudiante_4 = Estudiante.new\n",
    "\n",
    "def estudiante_4.admision\n",
    "  return \"PEAMA\"\n",
    "end\n",
    "puts estudiante_1.admision\n",
    "puts estudiante_2.admision\n",
    "puts estudiante_3.admision\n",
    "puts estudiante_4.admision"
   ]
  }
 ],
 "metadata": {
  "kernelspec": {
   "display_name": "Ruby 2.2.4",
   "language": "ruby",
   "name": "ruby"
  },
  "language_info": {
   "file_extension": ".rb",
   "mimetype": "application/x-ruby",
   "name": "ruby",
   "version": "2.2.4"
  }
 },
 "nbformat": 4,
 "nbformat_minor": 2
}
